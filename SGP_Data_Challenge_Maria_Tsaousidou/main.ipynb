{
 "cells": [
  {
   "cell_type": "markdown",
   "id": "2d0fba298dd4674a",
   "metadata": {},
   "source": [
    "# SailGP Data Analyst Challenge\n",
    "\n",
    "The aim is to test you python abilities. The challenge is to analyze the data provided and answer the questions below. You can use any library you want to help you with the analysis. The data is from the SailGP event in Auckland 2025. The data is in the 'DATA' folder.\n",
    "\n",
    "There are various sources available.\n",
    "\n",
    "The Boat Logs are in the 'Boat_Logs' folder. The data is in csv format and the columns are described in the 'Boat_Logs/Boat_Logs_Columns.csv' file.\n",
    "The 'Course_Marks_2025-01-19.csv' file contains the mark positions and wind reading on the course for the whole day.\n",
    "\n",
    "The Race_XML folder contains the xml files for each race that contains information on where the boundaries of the course are, the theoretical position of the marks and the target racecourse axis.\n",
    "\n",
    "The 2025-01-19_man_summary.csv file contains the metrics from the manoeuvre summary for the day.\n",
    "The 2025-01-19_straight_lines.csv file contains the metrics from the straight line summary for the day.\n",
    "\n",
    "Both are derived from the boat logs.\n",
    "\n",
    "The 2502 m8_APW_HSB2_HSRW.kph.csv file contains the polar data for the boats in that config.\n",
    "\n",
    "## Requierements\n",
    "- Chose at least 3 questions from the list below to answer.\n",
    "- Python 3.8 or higher\n",
    "- Notebook should be able to run without any errors from start to finish.\n",
    "- Specify the libraries (imports) used in the notebook.\n",
    "- Any comments to make the notebook self-explanatory and easy to follow would be appreciated.\n",
    "- If you can't get to the end of a question, we would appreciate the code you have written so far and explain what you were trying to do.\n",
    "\n",
    "## Further information:\n",
    "- We usually use bokeh for visualizations. So any showcase of bokeh would be appreciated.\n",
    "-\n",
    "\n",
    "## Submitting the results.\n",
    "It would be great if you could provide a jupyter notebook with the code and the results of the analysis. You can submit the results by sharing a link to a git repository.\n"
   ]
  },
  {
   "cell_type": "markdown",
   "id": "d2c766dfd4d17a82",
   "metadata": {},
   "source": [
    "\n",
    "Free section to initialize the notebook with the necessary imports and functions that will be used in the notebook."
   ]
  },
  {
   "cell_type": "code",
   "execution_count": null,
   "id": "1c3955f6358cd7b3",
   "metadata": {},
   "outputs": [],
   "source": [
    "### Imports and re-used functions\n",
    "\n",
    "import pandas as pd\n",
    "import numpy as np\n",
    "from scipy.stats import circmean\n",
    "import matplotlib.pyplot as plt\n",
    "\n",
    "# Read a boat's data\n",
    "csv_path = r'C:\\Users\\matsa\\OneDrive\\Υπολογιστής\\SailGP\\SGP Data challenge VS\\SGP_Data_Challenge\\Data\\Boat_logs\\data_AUS.csv'\n",
    "\n",
    "data = pd.read_csv(csv_path)\n",
    "data[\"DATETIME\"] = pd.to_datetime(data[\"DATETIME\"])\n",
    "data.set_index(\"DATETIME\", inplace=True)\n",
    "# Define a function for rolling circular mean\n",
    "def rolling_circmean(series, window):\n",
    "    return series.rolling(window=window).apply(lambda x: circmean(x, high=360, low=0), raw=True)"
   ]
  },
  {
   "cell_type": "markdown",
   "id": "f9d166957248f0f7",
   "metadata": {},
   "source": [
    "## Question 1: Write a Python function that can take a compass direction (ie. TWD or Heading) and calculate an accurate mean value across a downsampled frequency. Eg. If TWD is at 1Hz, give me a 10s average."
   ]
  },
  {
   "cell_type": "markdown",
   "id": "75556c527d1bf0c6",
   "metadata": {},
   "source": [
    "We had to take care of the circular data from 0 to 360 degrees on this point. Code in **2025 SGP (1) downsampling and 10s averaging TWD.ipynb**"
   ]
  },
  {
   "cell_type": "markdown",
   "id": "aa948eea67b6d187",
   "metadata": {},
   "source": [
    "## Question 2: Given a course XML and a timeseries of boat Lat/Lon values, calculate a VMC column for the same timeseries.\n"
   ]
  },
  {
   "cell_type": "code",
   "execution_count": null,
   "id": "215a1b096ddf991a",
   "metadata": {},
   "outputs": [],
   "source": [
    "vmc=bsp*cos(angle)"
   ]
  },
  {
   "cell_type": "markdown",
   "id": "59eded55c0230916",
   "metadata": {},
   "source": [
    "## Question 3: Verify and comment on the boats calibration. If possible propose a post-calibrated set of wind numbers and a potential calibration table.\n"
   ]
  },
  {
   "cell_type": "markdown",
   "id": "5e0fa8ab74285ef0",
   "metadata": {},
   "source": [
    "**AUS calibration**\n",
    "*Coding for this question in **2025 SGP (3) calibration - tackgybes.ipynb**, **2025 SGP (3) calibration-straightlines cleaned.ipynb**, **2025 SGP (3) calibration - tackgybes from man_summary.ipynb***\n",
    "\n",
    "In order to calibrate for TWA we need to detect differences between TWA before and after valid manouevers. As for TWS and TWD, it’s better to observe the mark roundings upwind-downwind to detect upwash.\n",
    "Coding for detection of valid tacks-gybes  and manouevers as in **2025 SGP (3) calibration - tackgybes.ipynb** \n",
    "When using the boat_log file and the SGP variables\n",
    "TWS_SGP and TWD_SGP seem to be very well calibrated. The valid mark roundings from upwind to downwind and vice versa, showed delta_TWS=-0.1 and delta_TWD=-0.6, non-significant differences.\n",
    "After validating and selecting the tacks and gybes, the TWA seems well calibrated as well.\n",
    "Upwind: deltaTWA=1.6\n",
    "Downwind: deltaTWA=0.8\n",
    "Ideally, we could split by TWS Bins and look back at the numbers again, but we do not have enough data. Wind ranges from around 32 to 41 km/h and only 11 manouevers were found valid for calibration.\n",
    "If a calibration table should be suggested based on the log file: \n",
    "\t          TWS\t      TWA Offset (to add to S)\n",
    "Upwind\t    (34, 38]\t   0.8\n",
    "\t        (38, 42]\t   0.8\n",
    "Downwind\t(34, 38]\t   0.3\n",
    "\t        (38, 42]\t   0.6\n",
    "\n",
    "\n",
    "The offsets appear on the straightlines.csv, I am guessing they come from another dataset. Aiming to find where this comes from, the man_summary.csv was checked and tried to find the valid manouevers. Only flying ones were selected and by observation differences in TWA and TWS differences before-after less than 5 degrees and kmh respectively (subject to change depending on TWS and more).\n",
    "Offset results depend a lot on data cleaning and data quality, I can’t identify how the entry_ and exit_ values are obtained or which datasets are used to obtain the offsets. With what I have for now, according to the manouevers provided in the man_summary, this is a suggested offset table for TWA.\n",
    "\n",
    "\t\t\t\t TWS\t\tTWA Offset (to add to S)\n",
    "Upwind\t\t\t(31, 35]\t\t3\n",
    "\t\t\t\t(35, 39]\t\t1.1\n",
    "\t\t\t\t(39, 43]\t\t0.75\n",
    "Downwind\t\t(31, 35]\t\t2.25\n",
    "\t\t\t\t(35, 39]\t\t1.3\n",
    "\t\t\t\t(39, 43]\t\t1.35\n",
    "\n",
    "\n",
    "34-38km/h wind speed: \tThe mean difference between HDG and TWA Upwind was found to be 2 degrees, and -3.2 Downwind \n",
    "38-42km/h wind speed: \tsmaller differences of 0.1 and 1 degree for Upwind and Downwind respectively.\n",
    "\n",
    "*When plotting for HDG and TWA quite a difference between them was detected meaning that there might be a delay issue in calculations of TWA.*\n",
    "\n",
    "We miss information about the current (heard that it was significant in Auckland), so can not say much about cog-hdg difference, the current and leeway effect seem to be higher when on Downwind.\n",
    "\n",
    "When looking at the upwind and downwind straightlines, for AUS,\n",
    "the BSP/SOG% is >100%, speedo might overread downwind ~1km/h.\n",
    "Upwind BSP/SOG% seem different from P to S. Speedo underreads around 3 kmh on port tack, while ok on S tack - presence of current?\n"
   ]
  },
  {
   "cell_type": "markdown",
   "id": "e9be5cb7d6e14e29",
   "metadata": {},
   "source": [
    "## Question 4: Given a timeseries of Lat/Lon positions and a course XML, in a Python notebook, calculate a Distance to Leader metric for each boat."
   ]
  },
  {
   "cell_type": "code",
   "execution_count": null,
   "id": "c225a8b3cf1e382e",
   "metadata": {},
   "outputs": [],
   "source": []
  },
  {
   "cell_type": "markdown",
   "id": "4c23f6f44eac779",
   "metadata": {},
   "source": [
    "## Question 5: Given a course XML, along with a wind speed and direction and a polar, calculate the minimum number of tacks or gybes for each leg of the course and each gate mark on the leg."
   ]
  },
  {
   "cell_type": "code",
   "execution_count": null,
   "id": "f55a57d792cc4849",
   "metadata": {},
   "outputs": [],
   "source": []
  },
  {
   "cell_type": "markdown",
   "id": "49813bad6749aff0",
   "metadata": {},
   "source": [
    "## Question 6: Calculate a “tacked” set of variables depending on the tack of the boat, so that sailors don’t need to think about what tack they’re on when looking at measurements. And show the results in a visualisation.\n"
   ]
  },
  {
   "cell_type": "markdown",
   "id": "939047c7233179e3",
   "metadata": {},
   "source": [
    "Code in **2025 SGP (6) tacked.ipynb**\n",
    "\n",
    "**A dataframe named tacked is created. This includes the same variables as the main data_{BOAT}.csv but the variables ANGLES(CA1-6), TWIST and ROT, TWA, AWA, LEEWAY, HEEL are transformed in order not to depend on the tack**\n",
    "\n",
    "ANGLES and ROT (-) means towards windward side\n",
    "\n",
    "Twist(+) means the top is more open than the bottom \n",
    "\n",
    "heel (-) --> heeling to windward -  negative heel\n",
    "\n",
    "Leeway (+) --> drifting\n",
    "\n",
    "**10s downsampling is used**"
   ]
  },
  {
   "cell_type": "markdown",
   "id": "48f959e7cb85e711",
   "metadata": {},
   "source": [
    "## Question 7: Given a set of tacks (in CSV), and train a model to explain the key features of these tacks when optimizing for vmg. Show appropriate visualisations to explain your conclusions."
   ]
  },
  {
   "cell_type": "code",
   "execution_count": null,
   "id": "9b8435876f454825",
   "metadata": {},
   "outputs": [],
   "source": []
  },
  {
   "cell_type": "markdown",
   "id": "997ddc7b58fdbd02",
   "metadata": {},
   "source": [
    "## Question 8: Give insights on the racing on what made a team win or underperform in the race."
   ]
  },
  {
   "cell_type": "markdown",
   "id": "fc977ed2340f1b78",
   "metadata": {},
   "source": [
    "**Code in: 2025 SGP (8) performance.ipynb**\n",
    "\n",
    "*USA Boat: Initially found with an inverted LENGTH_RH_S_mm sign, which was corrected to match the other boats.*\n",
    "\n",
    "Starts \n",
    "AUS: Consistently the best at starts, achieving the top speeds, acceleration averages, and shortest distances to M1.\n",
    "NZL: Struggled significantly with a mean speed deficit of over 30 km/h compared to the top performers.\n",
    "DEN & USA: In races 6 and 7, achieved higher speeds and acceleration than AUS but started further behind the line.\n",
    "Manouevers\n",
    "Race 5: Most teams made 7 turns; AUS and NZL only made 5.\n",
    "Race 6: ESP completed 5 more maneuvers than DEN but still secured 3rd place.\n",
    "Totals: AUS executed the fewest maneuvers with 20, while ESP topped the chart with 31.\n",
    "\n",
    "Races\n",
    "R5\n",
    "ESP: much faster while reaching, fly higher than the rest\n",
    "GBR: Best downwind speed with a positive heel.\n",
    "AUS: Dominated upwind with more pitch (~0.5°) than competitors might by a reason for being faster \n",
    "\n",
    "R6\n",
    "DEN faster than most, more pitch angle  winning points\n",
    "GER sailed faster while reaching 2 degrees pitch angle more than the others\n",
    "BRA fly higher, positive heel  not quick enough\n",
    "ITA struggles to maintain the negative heel on reaching  lower BSP\n",
    "\n",
    "R7\n",
    "Same as R6 for the DEN with more pitch than all in reaching and upwind, \n",
    "AUS keeps flying lower \n",
    "Big differences in RH reaching between boats, 600mm for ITA - AUS\n",
    "\n",
    "FINAL \n",
    "AUS was the fastest in all legs (~2km/h), pitching more Up and Downwind, maintaining neutral heel and relatively low RH.\n",
    " GBR faster than ESP in reaching and upwind\n",
    "\n",
    "DAY averages\n",
    "Best BSP\n",
    "Downwind AUS and GBR \n",
    "Upwind AUS, DEN, ESP\n",
    "Reaching GER\n",
    "PITCH: BRA much less especially downwind, also slower. AUS more  faster.\n",
    "HEEL\n",
    "ITA unstable while reaching\n",
    "winning boats around neutral heel\n",
    "RH: ESP and GBR exhibited stable flight heights (900-1050 mm & 850-1050 mm respectively)\n",
    "\n",
    "FLIGHT TIME %\n",
    "R5: GBR scored best with 98.5%\n",
    "R6: BRA had the best flight time of 95.8%\n",
    "R7: GBR and AUS managed the 100% of flight time \n",
    "USA appears with 100% of flight time in all races – doubt on that.\n",
    "In general, the GBR had the most flight time of the day (97.8%), while the DEN the least (91.4%)\n",
    "FINAL: flight times where very close GBR: 98.53% - ESP:98.51% - AUS:98.46\n",
    "\n",
    "WING\n",
    "R5\n",
    "AUS less twist than the rest reaching and downwind, GBR same as ITA\n",
    "Top winning teams - same tactics of the way they use the wing (parallel lines) with more open or close angles\n",
    "BRA less rot in all legs, matching on Down and Up the NZL\n",
    "\n",
    "R6 \n",
    "BRA didn’t change much the twist between legs – much less twist than the rest in reaching and upwind\n",
    "R7 \n",
    "BRA seems to have the CA1 more open, while similar twist--> underperforming.\n",
    "NZL that came 2nd used less twist and less rot. \n",
    "FINAL\n",
    "AUS and GBR have the same strategy in Upwind in terms ROT (15degrees) and TWIST(~25deg). Downwind AUS used ~2,5deg less rotation\n",
    "ESP more wing twist and less rotation --> underperforming \n",
    "Flatter wings might perform better.\n",
    "\n",
    "Teams like AUS excelled due to their consistently higher speed and pitch, along with their ability to maintain stable RH and heel. AUS stood out as the day’s best performer with consistently high speeds, efficient maneuvers, and flatter wing settings, maintaining stable RH and heel. GBR excelled in maintaining flight time and competitive speeds across legs.\n",
    "Conversely, teams like NZL and ITA struggled due to a lack of speed, poor pitch/heel management, and unstability in RH. \n",
    "Pitch seems important together with the team’s ability to manage the challenging conditions.\n"
   ]
  }
 ],
 "metadata": {
  "kernelspec": {
   "display_name": "Python 3",
   "language": "python",
   "name": "python3"
  },
  "language_info": {
   "codemirror_mode": {
    "name": "ipython",
    "version": 3
   },
   "file_extension": ".py",
   "mimetype": "text/x-python",
   "name": "python",
   "nbconvert_exporter": "python",
   "pygments_lexer": "ipython3",
   "version": "3.11.9"
  }
 },
 "nbformat": 4,
 "nbformat_minor": 5
}
