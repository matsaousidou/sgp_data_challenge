{
 "cells": [
  {
   "cell_type": "markdown",
   "metadata": {},
   "source": [
    "## Question 1: Write a Python function that can take a compass direction (ie. TWD or Heading) and calculate an accurate mean value across a downsampled frequency. Eg. If TWD is at 1Hz, give me a 10s average."
   ]
  },
  {
   "cell_type": "code",
   "execution_count": null,
   "metadata": {},
   "outputs": [],
   "source": [
    "### Imports and re-used functions\n",
    "\n",
    "import pandas as pd\n",
    "import numpy as np\n",
    "from scipy.stats import circmean\n",
    "import matplotlib.pyplot as plt\n",
    "\n",
    "# Read a boat's data, load one of the Boat_logs .csv\n",
    "csv_path = r'C:\\Users\\matsa\\OneDrive\\Υπολογιστής\\SailGP\\SGP Data challenge VS\\SGP_Data_Challenge\\Data\\Boat_logs\\data_AUS.csv'\n",
    "\n",
    "data = pd.read_csv(csv_path)\n",
    "data[\"DATETIME\"] = pd.to_datetime(data[\"DATETIME\"])\n",
    "data.set_index(\"DATETIME\", inplace=True)\n",
    "\n",
    "# Define a function for rolling circular mean\n",
    "def rolling_circmean(data, window):\n",
    "    return data.rolling(window=window).apply(lambda x: circmean(x, high=360, low=0), raw=True)\n",
    "\n",
    "\n",
    "#Calculate the mean value using a 10s rolling average and adding it to a new column \"TWD_avg\"\n",
    "data[\"TWD_avg\"] = rolling_circmean(data[\"TWD_SGP_deg\"], '10s')\n",
    "#Downsampling using the resample - every 10s. Keeping the first value of each 10s period & droping NAs.\n",
    "data_downsample=data.resample(\"10s\").first().dropna()"
   ]
  },
  {
   "cell_type": "code",
   "execution_count": 22,
   "metadata": {},
   "outputs": [],
   "source": [
    "testing_data= {'twd':(1,2,3,4,5,300,359,350,300,351)}\n",
    "testing_data=pd.DataFrame(testing_data)\n",
    "testing_circmean = rolling_circmean(testing_data,10)"
   ]
  },
  {
   "cell_type": "code",
   "execution_count": 2,
   "metadata": {},
   "outputs": [
    {
     "name": "stderr",
     "output_type": "stream",
     "text": [
      "C:\\Users\\matsa\\AppData\\Local\\Temp\\ipykernel_18640\\818954382.py:1: FutureWarning: Series.__getitem__ treating keys as positions is deprecated. In a future version, integer keys will always be treated as labels (consistent with DataFrame behavior). To access a value by position, use `ser.iloc[pos]`\n",
      "  data_downsample.to_excel(f\"downsampled_data_{data['BOAT'][1]}.xlsx\")\n"
     ]
    }
   ],
   "source": [
    "data_downsample.to_excel(f\"downsampled_data_{data['BOAT'][1]}.xlsx\")"
   ]
  }
 ],
 "metadata": {
  "kernelspec": {
   "display_name": "Python 3",
   "language": "python",
   "name": "python3"
  },
  "language_info": {
   "codemirror_mode": {
    "name": "ipython",
    "version": 3
   },
   "file_extension": ".py",
   "mimetype": "text/x-python",
   "name": "python",
   "nbconvert_exporter": "python",
   "pygments_lexer": "ipython3",
   "version": "3.11.9"
  }
 },
 "nbformat": 4,
 "nbformat_minor": 2
}
